{
  "nbformat": 4,
  "nbformat_minor": 0,
  "metadata": {
    "colab": {
      "name": "UdemyExPy.ipynb",
      "provenance": [],
      "toc_visible": true,
      "authorship_tag": "ABX9TyPbXeG9Zml3cuGOzuOULV6h",
      "include_colab_link": true
    },
    "kernelspec": {
      "name": "python3",
      "display_name": "Python 3"
    },
    "language_info": {
      "name": "python"
    }
  },
  "cells": [
    {
      "cell_type": "markdown",
      "metadata": {
        "id": "view-in-github",
        "colab_type": "text"
      },
      "source": [
        "<a href=\"https://colab.research.google.com/github/yusra011/udemyExercisePy/blob/main/UdemyExPy.ipynb\" target=\"_parent\"><img src=\"https://colab.research.google.com/assets/colab-badge.svg\" alt=\"Open In Colab\"/></a>"
      ]
    },
    {
      "cell_type": "markdown",
      "metadata": {
        "id": "xVF0rCKSI63w"
      },
      "source": [
        "###Notes from udemy\n"
      ]
    },
    {
      "cell_type": "markdown",
      "metadata": {
        "id": "rVC3xCb-JBmw"
      },
      "source": [
        "###print the python version to the console"
      ]
    },
    {
      "cell_type": "code",
      "metadata": {
        "id": "jG75w9gXJJq9"
      },
      "source": [
        "import sys\n",
        "print(sys.version.split()[0])"
      ],
      "execution_count": null,
      "outputs": []
    },
    {
      "cell_type": "markdown",
      "metadata": {
        "id": "JEJbaT4XKrIy"
      },
      "source": [
        "###Import the built in datetime module and print the namespace of it"
      ]
    },
    {
      "cell_type": "code",
      "metadata": {
        "id": "8lTxgXvJK7xN"
      },
      "source": [
        "import datetime\n",
        "for name in sorted(datetime.__dict__):\n",
        "    print(name)"
      ],
      "execution_count": null,
      "outputs": []
    },
    {
      "cell_type": "markdown",
      "metadata": {
        "id": "4qJI3ddEMS1i"
      },
      "source": [
        "#Practice Section\n"
      ]
    },
    {
      "cell_type": "code",
      "metadata": {
        "colab": {
          "base_uri": "https://localhost:8080/"
        },
        "id": "vt7gqWjVN82n",
        "outputId": "ced9455c-7c37-4f0c-b67c-345f8f339e7d"
      },
      "source": [
        "class Example:\n",
        "  def first():\n",
        "    print(\"hello\")\n",
        "  def second():\n",
        "    print(\"yusra\")\n",
        "for n in Example.__dict__:#A special attribute of every module is __dict__ \n",
        "                          #that store object's attribute\n",
        "  print(n)"
      ],
      "execution_count": null,
      "outputs": [
        {
          "output_type": "stream",
          "text": [
            "__module__\n",
            "first\n",
            "second\n",
            "__dict__\n",
            "__weakref__\n",
            "__doc__\n"
          ],
          "name": "stdout"
        }
      ]
    }
  ]
}