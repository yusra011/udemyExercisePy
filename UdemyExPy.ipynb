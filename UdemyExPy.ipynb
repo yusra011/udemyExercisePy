{
  "nbformat": 4,
  "nbformat_minor": 0,
  "metadata": {
    "colab": {
      "name": "UdemyExPy.ipynb",
      "provenance": [],
      "toc_visible": true,
      "authorship_tag": "ABX9TyPNgRYmhM+s6oEEiNjEkH8L",
      "include_colab_link": true
    },
    "kernelspec": {
      "name": "python3",
      "display_name": "Python 3"
    },
    "language_info": {
      "name": "python"
    }
  },
  "cells": [
    {
      "cell_type": "markdown",
      "metadata": {
        "id": "view-in-github",
        "colab_type": "text"
      },
      "source": [
        "<a href=\"https://colab.research.google.com/github/yusra011/udemyExercisePy/blob/main/UdemyExPy.ipynb\" target=\"_parent\"><img src=\"https://colab.research.google.com/assets/colab-badge.svg\" alt=\"Open In Colab\"/></a>"
      ]
    },
    {
      "cell_type": "markdown",
      "metadata": {
        "id": "xVF0rCKSI63w"
      },
      "source": [
        "###Notes from udemy\n"
      ]
    },
    {
      "cell_type": "markdown",
      "metadata": {
        "id": "rVC3xCb-JBmw"
      },
      "source": [
        "###print the python version to the console"
      ]
    },
    {
      "cell_type": "code",
      "metadata": {
        "id": "jG75w9gXJJq9"
      },
      "source": [
        "import sys\n",
        "print(sys.version.split()[0])"
      ],
      "execution_count": null,
      "outputs": []
    },
    {
      "cell_type": "markdown",
      "metadata": {
        "id": "JEJbaT4XKrIy"
      },
      "source": [
        "###Import the built in datetime module and print the namespace of it"
      ]
    },
    {
      "cell_type": "code",
      "metadata": {
        "id": "8lTxgXvJK7xN"
      },
      "source": [
        "import datetime\n",
        "for name in sorted(datetime.__dict__):\n",
        "    print(name)"
      ],
      "execution_count": null,
      "outputs": []
    },
    {
      "cell_type": "markdown",
      "metadata": {
        "id": "_jCRYU3DvDGy"
      },
      "source": [
        "Function that take any number of arguements and return an object of type \"str\" being the concatenation of all arguments and concatenated with \"#\" symbol"
      ]
    },
    {
      "cell_type": "code",
      "metadata": {
        "colab": {
          "base_uri": "https://localhost:8080/"
        },
        "id": "rOlsxD5tvjp3",
        "outputId": "9643a86a-62e1-4e73-8948-a3454bd597fe"
      },
      "source": [
        "def stick(*args):\n",
        "    args = [arg for arg in args if isinstance(arg, str)]\n",
        "    result = '#'.join(args)\n",
        "    return result\n",
        " \n",
        "print(stick('sport', 'summer'))\n",
        "print(stick(3, 5, 7))\n",
        "print(stick(False, 'time', True, 'workout', [], 'gym'))"
      ],
      "execution_count": null,
      "outputs": [
        {
          "output_type": "stream",
          "text": [
            "sport#summer\n",
            "\n",
            "time#workout#gym\n"
          ],
          "name": "stdout"
        }
      ]
    },
    {
      "cell_type": "markdown",
      "metadata": {
        "id": "7LdOy5CywVUL"
      },
      "source": [
        "Create a simplest class Vehicle and use the pass statement."
      ]
    },
    {
      "cell_type": "code",
      "metadata": {
        "id": "yT1R1ezexLIU"
      },
      "source": [
        "class Vehicle:\n",
        "  pass \n",
        "  #pass statement is used as a placeholder.When the pass statement is executed, nothing happens, \n",
        "  #but you avoid getting an error when empty code is not allowed.\n",
        "  #Empty code is not allowed in loops, function definitions, class definitions, or in if statements.\n",
        "\n"
      ],
      "execution_count": null,
      "outputs": []
    },
    {
      "cell_type": "code",
      "metadata": {
        "colab": {
          "base_uri": "https://localhost:8080/"
        },
        "id": "HJOy75F1x-1l",
        "outputId": "1c7721fe-1fca-4f9c-8ee3-cfcac469bd74"
      },
      "source": [
        "class Phone:\n",
        "    pass\n",
        "print(type(Phone))"
      ],
      "execution_count": null,
      "outputs": [
        {
          "output_type": "stream",
          "text": [
            "<class 'type'>\n"
          ],
          "name": "stdout"
        }
      ]
    },
    {
      "cell_type": "markdown",
      "metadata": {
        "id": "biTP2wHS1Ord"
      },
      "source": [
        "To check the particular instance is the class instance or not of that class"
      ]
    },
    {
      "cell_type": "code",
      "metadata": {
        "colab": {
          "base_uri": "https://localhost:8080/"
        },
        "id": "rBJEoh-m1YFF",
        "outputId": "5db78b51-8cba-478f-c7ed-a0e5759fa406"
      },
      "source": [
        "class Model:\n",
        "  pass\n",
        "model=Model()\n",
        "print(isinstance(model, Model))"
      ],
      "execution_count": null,
      "outputs": [
        {
          "output_type": "stream",
          "text": [
            "True\n"
          ],
          "name": "stdout"
        }
      ]
    },
    {
      "cell_type": "markdown",
      "metadata": {
        "id": "UVzu890iJpHD"
      },
      "source": [
        "to find the type of __dict__ attribute of class and it's instance"
      ]
    },
    {
      "cell_type": "code",
      "metadata": {
        "colab": {
          "base_uri": "https://localhost:8080/"
        },
        "id": "TTtBJKWXJ4Zp",
        "outputId": "2e2bf0de-9aa3-460c-86c5-e6fc08fe7fe4"
      },
      "source": [
        "class Container:\n",
        "    pass\n",
        "container=Container()\n",
        "print(type(Container.__dict__))\n",
        "print(type(container.__dict__))"
      ],
      "execution_count": null,
      "outputs": [
        {
          "output_type": "stream",
          "text": [
            "<class 'mappingproxy'>\n",
            "<class 'dict'>\n"
          ],
          "name": "stdout"
        }
      ]
    },
    {
      "cell_type": "markdown",
      "metadata": {
        "id": "YDjYOOH6KskG"
      },
      "source": [
        "To check if a class is subclass of another class"
      ]
    },
    {
      "cell_type": "code",
      "metadata": {
        "colab": {
          "base_uri": "https://localhost:8080/"
        },
        "id": "B2jIkw4FK3r1",
        "outputId": "30bc53f4-17ba-4b2c-c599-63e5945ddcf7"
      },
      "source": [
        "class myAge:\n",
        "  age = 36\n",
        "\n",
        "class myObj(myAge):\n",
        "  name = \"John\"\n",
        "  age = myAge\n",
        "\n",
        "x = issubclass(myObj, myAge)\n",
        "print(x)"
      ],
      "execution_count": null,
      "outputs": [
        {
          "output_type": "stream",
          "text": [
            "True\n"
          ],
          "name": "stdout"
        }
      ]
    },
    {
      "cell_type": "markdown",
      "metadata": {
        "id": "xESnu-YWOBKv"
      },
      "source": [
        "Implement a class and using getattr() func display the values of the attributes of the class"
      ]
    },
    {
      "cell_type": "code",
      "metadata": {
        "id": "6_2roxaeOI85"
      },
      "source": [
        "class Phone:\n",
        "    brand='Apple'\n",
        "    model='iPhone X'\n",
        "\n",
        "print(getattr(Phone,'brand'))\n",
        "print(getattr(Phone,'model'))"
      ],
      "execution_count": null,
      "outputs": []
    },
    {
      "cell_type": "markdown",
      "metadata": {
        "id": "AbE-1tU4p0Kv"
      },
      "source": [
        "Implement a class bucket that will take any number of named argument"
      ]
    },
    {
      "cell_type": "code",
      "metadata": {
        "colab": {
          "base_uri": "https://localhost:8080/"
        },
        "id": "1w1IHGe9p9qH",
        "outputId": "c83a6bf5-6002-44e9-c147-b02d7a7df560"
      },
      "source": [
        "class Bucket:\n",
        "    \n",
        "    def __init__(self, **kwargs):\n",
        "        for attr_name, attr_value in kwargs.items():\n",
        "            setattr(self, attr_name, attr_value)\n",
        " \n",
        " \n",
        "bucket = Bucket(apple=3.5, milk=2.5, juice=4.9, water=2.5)\n",
        "print(bucket.__dict__)"
      ],
      "execution_count": null,
      "outputs": [
        {
          "output_type": "stream",
          "text": [
            "{'apple': 3.5, 'milk': 2.5, 'juice': 4.9, 'water': 2.5}\n"
          ],
          "name": "stdout"
        }
      ]
    },
    {
      "cell_type": "code",
      "metadata": {
        "id": "Td331QnbrW_W"
      },
      "source": [
        "class Car:\n",
        " \n",
        "    def __init__(self, brand, model, price, type_of_car=None):\n",
        "        self.brand = brand\n",
        "        self.model = model\n",
        "        self.price = price\n",
        "        self.type_of_car = type_of_car if type_of_car else 'sedan'#for default value\n",
        " \n",
        " \n",
        "car = Car('Opel', 'Insignia', 115000)\n",
        "print(car.__dict__)"
      ],
      "execution_count": null,
      "outputs": []
    },
    {
      "cell_type": "markdown",
      "metadata": {
        "id": "4qJI3ddEMS1i"
      },
      "source": [
        "#Practice Section\n"
      ]
    },
    {
      "cell_type": "code",
      "metadata": {
        "colab": {
          "base_uri": "https://localhost:8080/"
        },
        "id": "G-5kQcgG20mz",
        "outputId": "07a21dc8-7ca8-4a97-cbd2-3ee11888e958"
      },
      "source": [
        "class Model:\n",
        "  def printN(self):\n",
        "    print(\"this is model class\")\n",
        "class View:\n",
        "  def printName(self):\n",
        "    print(\"this is view class\")\n",
        "obj1=Model()\n",
        "obj2=View()\n",
        "obj1.printN()\n",
        "obj2.printName()"
      ],
      "execution_count": null,
      "outputs": [
        {
          "output_type": "stream",
          "text": [
            "this is model class\n",
            "this is view class\n"
          ],
          "name": "stdout"
        }
      ]
    },
    {
      "cell_type": "code",
      "metadata": {
        "colab": {
          "base_uri": "https://localhost:8080/"
        },
        "id": "vt7gqWjVN82n",
        "outputId": "ced9455c-7c37-4f0c-b67c-345f8f339e7d"
      },
      "source": [
        "class Example:\n",
        "  def first():\n",
        "    print(\"hello\")\n",
        "  def second():\n",
        "    print(\"yusra\")\n",
        "for n in Example.__dict__:#A special attribute of every module is __dict__ \n",
        "                          #that store object's attribute\n",
        "  print(n)"
      ],
      "execution_count": null,
      "outputs": [
        {
          "output_type": "stream",
          "text": [
            "__module__\n",
            "first\n",
            "second\n",
            "__dict__\n",
            "__weakref__\n",
            "__doc__\n"
          ],
          "name": "stdout"
        }
      ]
    },
    {
      "cell_type": "code",
      "metadata": {
        "colab": {
          "base_uri": "https://localhost:8080/"
        },
        "id": "OqDX6QhRRWbY",
        "outputId": "74d42d9c-5d35-4c40-f771-a4dc0c97fc27"
      },
      "source": [
        "#to delete the attribute of a class\n",
        "class OnlineShop:\n",
        "    sector = 'electronics'\n",
        "    sector_code = 'ELE'\n",
        "    is_public_company = False\n",
        " \n",
        " \n",
        "delattr(OnlineShop,'sector_code') #del statement\n",
        "#or del OnlineShop.sector_code\n",
        "print(OnlineShop.__dict__)\n",
        "attrs=[attr for attr in OnlineShop.__dict__.keys() if not attr.startswith('__')]\n",
        "print(attrs)\n",
        "val=[v for v in OnlineShop.__dict__.items()]\n",
        "print(val)"
      ],
      "execution_count": null,
      "outputs": [
        {
          "output_type": "stream",
          "text": [
            "{'__module__': '__main__', 'sector': 'electronics', 'is_public_company': False, '__dict__': <attribute '__dict__' of 'OnlineShop' objects>, '__weakref__': <attribute '__weakref__' of 'OnlineShop' objects>, '__doc__': None}\n",
            "['sector', 'is_public_company']\n",
            "[('__module__', '__main__'), ('sector', 'electronics'), ('is_public_company', False), ('__dict__', <attribute '__dict__' of 'OnlineShop' objects>), ('__weakref__', <attribute '__weakref__' of 'OnlineShop' objects>), ('__doc__', None)]\n"
          ],
          "name": "stdout"
        }
      ]
    },
    {
      "cell_type": "code",
      "metadata": {
        "colab": {
          "base_uri": "https://localhost:8080/"
        },
        "id": "hrE4HQeSa7I_",
        "outputId": "7d2ae059-939b-4236-d7a4-38aff4129354"
      },
      "source": [
        "class HouseProject:\n",
        "    number_of_floors=3\n",
        "    area=50\n",
        "    def describe_project():\n",
        "        print('Floor number:',HouseProject.number_of_floors)\n",
        "        print('Area:',HouseProject.area)\n",
        "HouseProject.describe_project()"
      ],
      "execution_count": null,
      "outputs": [
        {
          "output_type": "stream",
          "text": [
            "Floor number: 3\n",
            "Area: 50\n"
          ],
          "name": "stdout"
        }
      ]
    },
    {
      "cell_type": "code",
      "metadata": {
        "colab": {
          "base_uri": "https://localhost:8080/"
        },
        "id": "7ch3hZbldXOk",
        "outputId": "5ae68fd5-64d4-4d0d-995a-2e7a1170fbfc"
      },
      "source": [
        "class Book:\n",
        "    language = 'ENG'\n",
        "    is_ebook = True\n",
        "book_1=Book()\n",
        "book_2=Book()\n",
        "\n",
        "book_1.author='Dan Brown'\n",
        "book_1.title='Inferno'\n",
        "\n",
        "\n",
        "book_2.author='Dan Brown'\n",
        "book_2.title='The Da Vinci Code'\n",
        "book_2.year_of_publishment='2003'\n",
        "\n",
        "print(book_1.__dict__)\n",
        "print(book_2.__dict__)"
      ],
      "execution_count": null,
      "outputs": [
        {
          "output_type": "stream",
          "text": [
            "{'author': 'Dan Brown', 'title': 'Inferno'}\n",
            "{'author': 'Dan Brown', 'title': 'The Da Vinci Code', 'year_of_publishment': '2003'}\n"
          ],
          "name": "stdout"
        }
      ]
    },
    {
      "cell_type": "code",
      "metadata": {
        "colab": {
          "base_uri": "https://localhost:8080/"
        },
        "id": "2xobfpHWeJj6",
        "outputId": "96ad4e11-9a00-44b1-a280-c1c332dbc589"
      },
      "source": [
        "class Book:\n",
        "    language = 'ENG'\n",
        "    is_ebook = True\n",
        " \n",
        " \n",
        "book_1 = Book()\n",
        "book_2 = Book()\n",
        " \n",
        "book_1.author = 'Dan Brown'\n",
        "book_1.title = 'Inferno'\n",
        " \n",
        "book_2.author = 'Dan Brown'\n",
        "book_2.title = 'The Da Vinci Code'\n",
        "book_2.year_of_publishment = 2003\n",
        " \n",
        "books = [book_1, book_2]\n",
        "for book in books:\n",
        "    for attr in book.__dict__:\n",
        "        print(f'{attr} -> {getattr(book, attr)}')\n",
        "    print('-' * 30)"
      ],
      "execution_count": null,
      "outputs": [
        {
          "output_type": "stream",
          "text": [
            "author -> Dan Brown\n",
            "title -> Inferno\n",
            "------------------------------\n",
            "author -> Dan Brown\n",
            "title -> The Da Vinci Code\n",
            "year_of_publishment -> 2003\n",
            "------------------------------\n"
          ],
          "name": "stdout"
        }
      ]
    },
    {
      "cell_type": "code",
      "metadata": {
        "colab": {
          "base_uri": "https://localhost:8080/"
        },
        "id": "ehhwVHg-guWg",
        "outputId": "44e096cf-32b3-4cf8-de82-50e0e36f5a9c"
      },
      "source": [
        "class Book:\n",
        "    language = 'ENG'\n",
        "    is_ebook = True\n",
        "    def set_title(self, value):\n",
        "        if not isinstance(value, str):\n",
        "            raise TypeError('The value of the title attribute must be of str '\n",
        "                'type.')\n",
        "        self.title = value\n",
        "\n",
        "book=Book()\n",
        "book.set_title('133')\n",
        "print(book.title)\n"
      ],
      "execution_count": null,
      "outputs": [
        {
          "output_type": "stream",
          "text": [
            "133\n"
          ],
          "name": "stdout"
        }
      ]
    },
    {
      "cell_type": "code",
      "metadata": {
        "colab": {
          "base_uri": "https://localhost:8080/"
        },
        "id": "QNQwNJ3qibrU",
        "outputId": "fe078f66-78c8-4a00-ee5d-63d7f00e8526"
      },
      "source": [
        "  class Book:\n",
        "    language = 'ENG'\n",
        "    is_ebook = True\n",
        "\n",
        "    def set_title(self, value):\n",
        "        if not isinstance(value, str):\n",
        "            raise TypeError('The value of the title attribute must be of str '\n",
        "                'type.')\n",
        "        self.title = value\n",
        "book = Book()\n",
        " \n",
        "try:\n",
        "    book.set_title(False)\n",
        "except TypeError as error:\n",
        "    print(error)"
      ],
      "execution_count": null,
      "outputs": [
        {
          "output_type": "stream",
          "text": [
            "The value of the title attribute must be of str type.\n"
          ],
          "name": "stdout"
        }
      ]
    },
    {
      "cell_type": "code",
      "metadata": {
        "colab": {
          "base_uri": "https://localhost:8080/"
        },
        "id": "6n1f1kW9lBr6",
        "outputId": "ed675a82-f959-4477-8202-616c613505eb"
      },
      "source": [
        "class Laptop:\n",
        "    \n",
        "    def __init__(self,brand,model,price):\n",
        "        self.brand=brand\n",
        "        self.model=model\n",
        "        self.price=price\n",
        "l=Laptop('Acer','Predator',5490)\n",
        "print(l.__dict__)"
      ],
      "execution_count": null,
      "outputs": [
        {
          "output_type": "stream",
          "text": [
            "{'brand': 'Acer', 'model': 'Predator', 'price': 5490}\n"
          ],
          "name": "stdout"
        }
      ]
    },
    {
      "cell_type": "code",
      "metadata": {
        "colab": {
          "base_uri": "https://localhost:8080/"
        },
        "id": "thOLFCeimIUC",
        "outputId": "0daccb3c-6072-4cb2-ebdf-66b19563fee0"
      },
      "source": [
        "class Laptop:\n",
        "    \n",
        "    def __init__(self, brand, model, price):\n",
        "        self.brand = brand\n",
        "        self.model = model\n",
        "        self.price = price\n",
        "    def display_instance_attrs(self):\n",
        "        for attr in self.__dict__.keys():\n",
        "            print(f'{attr} -> {getattr(self, attr)}')#attribute name with value\n",
        "            print(attr)\n",
        "l=Laptop('Acer','Predator',5490)\n",
        "l.display_instance_attrs()"
      ],
      "execution_count": null,
      "outputs": [
        {
          "output_type": "stream",
          "text": [
            "brand -> Acer\n",
            "brand\n",
            "model -> Predator\n",
            "model\n",
            "price -> 5490\n",
            "price\n"
          ],
          "name": "stdout"
        }
      ]
    },
    {
      "cell_type": "code",
      "metadata": {
        "colab": {
          "base_uri": "https://localhost:8080/"
        },
        "id": "mZ13PoiyoLok",
        "outputId": "ca5cc146-9abe-47b9-a053-fdfff748e674"
      },
      "source": [
        "class first:\n",
        "  def __init__(self,*a):\n",
        "    self.a=a\n",
        "f=first(1,2,3)\n",
        "print(f.a)\n"
      ],
      "execution_count": null,
      "outputs": [
        {
          "output_type": "stream",
          "text": [
            "(1, 2, 3)\n"
          ],
          "name": "stdout"
        }
      ]
    },
    {
      "cell_type": "code",
      "metadata": {
        "colab": {
          "base_uri": "https://localhost:8080/"
        },
        "id": "ySM8PLkl7-MZ",
        "outputId": "b08235cf-f48a-4e1e-f7fe-9ed1733dcac7"
      },
      "source": [
        "x=300\n",
        "def first():\n",
        "  x=200\n",
        "  print(x)\n",
        "first()\n",
        "print(x)"
      ],
      "execution_count": null,
      "outputs": [
        {
          "output_type": "stream",
          "text": [
            "200\n",
            "300\n"
          ],
          "name": "stdout"
        }
      ]
    },
    {
      "cell_type": "code",
      "metadata": {
        "id": "rjcC-Bu18YPu"
      },
      "source": [
        "x=300\n",
        "def first():\n",
        "  global x=200#use the global keyword if you want to make a change to a global variable inside a function.\n",
        "  print(x)\n",
        "first()\n",
        "print(x)"
      ],
      "execution_count": null,
      "outputs": []
    }
  ]
}