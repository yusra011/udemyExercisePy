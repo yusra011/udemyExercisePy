{
  "nbformat": 4,
  "nbformat_minor": 0,
  "metadata": {
    "colab": {
      "name": "UdemyExPy.ipynb",
      "provenance": [],
      "toc_visible": true,
      "authorship_tag": "ABX9TyP9nEPKrPXeca08QHEmQNax",
      "include_colab_link": true
    },
    "kernelspec": {
      "name": "python3",
      "display_name": "Python 3"
    },
    "language_info": {
      "name": "python"
    }
  },
  "cells": [
    {
      "cell_type": "markdown",
      "metadata": {
        "id": "view-in-github",
        "colab_type": "text"
      },
      "source": [
        "<a href=\"https://colab.research.google.com/github/yusra011/udemyExercisePy/blob/main/UdemyExPy.ipynb\" target=\"_parent\"><img src=\"https://colab.research.google.com/assets/colab-badge.svg\" alt=\"Open In Colab\"/></a>"
      ]
    },
    {
      "cell_type": "markdown",
      "metadata": {
        "id": "xVF0rCKSI63w"
      },
      "source": [
        "###Notes from udemy\n"
      ]
    },
    {
      "cell_type": "markdown",
      "metadata": {
        "id": "rVC3xCb-JBmw"
      },
      "source": [
        "###print the python version to the console"
      ]
    },
    {
      "cell_type": "code",
      "metadata": {
        "id": "jG75w9gXJJq9"
      },
      "source": [
        "import sys\n",
        "print(sys.version.split()[0])"
      ],
      "execution_count": null,
      "outputs": []
    },
    {
      "cell_type": "markdown",
      "metadata": {
        "id": "JEJbaT4XKrIy"
      },
      "source": [
        "###Import the built in datetime module and print the namespace of it"
      ]
    },
    {
      "cell_type": "code",
      "metadata": {
        "id": "8lTxgXvJK7xN"
      },
      "source": [
        "import datetime\n",
        "for name in sorted(datetime.__dict__):\n",
        "    print(name)"
      ],
      "execution_count": null,
      "outputs": []
    },
    {
      "cell_type": "markdown",
      "metadata": {
        "id": "_jCRYU3DvDGy"
      },
      "source": [
        "#Function that take any number of arguements and return an object of type \"str\" being the concatenation of all arguments and concatenated with \"#\" symbol"
      ]
    },
    {
      "cell_type": "code",
      "metadata": {
        "colab": {
          "base_uri": "https://localhost:8080/"
        },
        "id": "rOlsxD5tvjp3",
        "outputId": "9643a86a-62e1-4e73-8948-a3454bd597fe"
      },
      "source": [
        "def stick(*args):\n",
        "    args = [arg for arg in args if isinstance(arg, str)]\n",
        "    result = '#'.join(args)\n",
        "    return result\n",
        " \n",
        "print(stick('sport', 'summer'))\n",
        "print(stick(3, 5, 7))\n",
        "print(stick(False, 'time', True, 'workout', [], 'gym'))"
      ],
      "execution_count": 1,
      "outputs": [
        {
          "output_type": "stream",
          "text": [
            "sport#summer\n",
            "\n",
            "time#workout#gym\n"
          ],
          "name": "stdout"
        }
      ]
    },
    {
      "cell_type": "markdown",
      "metadata": {
        "id": "7LdOy5CywVUL"
      },
      "source": [
        "Create a simplest class Vehicle and use the pass statement."
      ]
    },
    {
      "cell_type": "code",
      "metadata": {
        "id": "yT1R1ezexLIU"
      },
      "source": [
        "class Vehicle:\n",
        "  pass \n",
        "  #pass statement is used as a placeholder.When the pass statement is executed, nothing happens, \n",
        "  #but you avoid getting an error when empty code is not allowed.\n",
        "  #Empty code is not allowed in loops, function definitions, class definitions, or in if statements.\n",
        "\n"
      ],
      "execution_count": 4,
      "outputs": []
    },
    {
      "cell_type": "code",
      "metadata": {
        "colab": {
          "base_uri": "https://localhost:8080/"
        },
        "id": "HJOy75F1x-1l",
        "outputId": "1c7721fe-1fca-4f9c-8ee3-cfcac469bd74"
      },
      "source": [
        "class Phone:\n",
        "    pass\n",
        "print(type(Phone))"
      ],
      "execution_count": 5,
      "outputs": [
        {
          "output_type": "stream",
          "text": [
            "<class 'type'>\n"
          ],
          "name": "stdout"
        }
      ]
    },
    {
      "cell_type": "markdown",
      "metadata": {
        "id": "biTP2wHS1Ord"
      },
      "source": [
        "To check the particular instance is the class instance or not of that class"
      ]
    },
    {
      "cell_type": "code",
      "metadata": {
        "colab": {
          "base_uri": "https://localhost:8080/"
        },
        "id": "rBJEoh-m1YFF",
        "outputId": "5db78b51-8cba-478f-c7ed-a0e5759fa406"
      },
      "source": [
        "class Model:\n",
        "  pass\n",
        "model=Model()\n",
        "print(isinstance(model, Model))"
      ],
      "execution_count": 6,
      "outputs": [
        {
          "output_type": "stream",
          "text": [
            "True\n"
          ],
          "name": "stdout"
        }
      ]
    },
    {
      "cell_type": "markdown",
      "metadata": {
        "id": "4qJI3ddEMS1i"
      },
      "source": [
        "#Practice Section\n"
      ]
    },
    {
      "cell_type": "code",
      "metadata": {
        "colab": {
          "base_uri": "https://localhost:8080/"
        },
        "id": "vt7gqWjVN82n",
        "outputId": "ced9455c-7c37-4f0c-b67c-345f8f339e7d"
      },
      "source": [
        "class Example:\n",
        "  def first():\n",
        "    print(\"hello\")\n",
        "  def second():\n",
        "    print(\"yusra\")\n",
        "for n in Example.__dict__:#A special attribute of every module is __dict__ \n",
        "                          #that store object's attribute\n",
        "  print(n)"
      ],
      "execution_count": null,
      "outputs": [
        {
          "output_type": "stream",
          "text": [
            "__module__\n",
            "first\n",
            "second\n",
            "__dict__\n",
            "__weakref__\n",
            "__doc__\n"
          ],
          "name": "stdout"
        }
      ]
    }
  ]
}